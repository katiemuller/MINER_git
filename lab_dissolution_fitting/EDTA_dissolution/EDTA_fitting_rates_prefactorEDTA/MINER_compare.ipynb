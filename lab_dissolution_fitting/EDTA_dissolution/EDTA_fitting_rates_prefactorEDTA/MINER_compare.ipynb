{
 "cells": [
  {
   "cell_type": "markdown",
   "id": "d735ef41-af84-404a-bbcb-512ee70f9b05",
   "metadata": {},
   "source": [
    "# MINER Simulation Output Comparison\n",
    "# Katie Muller\n",
    "# 09/26/2024"
   ]
  },
  {
   "cell_type": "code",
   "execution_count": null,
   "id": "83babb48-6189-45e8-80e7-14316ab73556",
   "metadata": {},
   "outputs": [],
   "source": [
    "# Import\n",
    "import pandas as pd\n",
    "from pathlib import Path\n",
    "import numpy as np\n",
    "import subprocess\n",
    "import os\n",
    "import matplotlib.pyplot as plt\n",
    "import math as math\n",
    "\n",
    "dir_code = '~/projects/MINER/src'\n",
    "import sys\n",
    "sys.path.append(dir_code)\n",
    "\n",
    "##### Functions to read PFLOTRAN pft and tec files ######\n",
    "def read_pflotran_output(fname):\n",
    "    '''Function for reading the pflotran output'''\n",
    "    header = pd.read_csv(fname, nrows=0)        \n",
    "    data   = pd.read_csv(fname, sep='\\s+', skiprows=1, names=list(header))\n",
    "    data.index = data.iloc[:,0]\n",
    "    return data\n",
    "\n",
    "######################\n",
    "def tec_to_dataframe(file_path, no_skiprow, column_headers):\n",
    "    '''function to convert a tec PFLOTRAN outfile to a dataframe'''\n",
    "\n",
    "    df = pd.read_csv(file_path, skiprows=no_skiprow, delim_whitespace=True, header=None, names=column_headers)\n",
    "    return df\n",
    "#####################"
   ]
  },
  {
   "cell_type": "markdown",
   "id": "a59ff85d-a36a-4a40-9520-0a50b9f6c9f4",
   "metadata": {},
   "source": [
    "# Simulation Name and Location"
   ]
  },
  {
   "cell_type": "code",
   "execution_count": null,
   "id": "3a9b54a0-646a-482b-b520-1297fd75f44a",
   "metadata": {},
   "outputs": [],
   "source": [
    "#### Simulation Name & Location ######\n",
    "sim_name = 'S1-DI'\n",
    "dir_sim = '~/projects/MINER/field_scale_PFLOTRAN/coarse_grid_test/coarse_DI'\n",
    "\n",
    "sys.path.append(dir_sim)\n",
    "### Simulation Input File\n",
    "sim_input_file = 'miner_coarse_DI_shorter_times'\n",
    "\n"
   ]
  },
  {
   "cell_type": "code",
   "execution_count": null,
   "id": "f75ef8dc-91a7-45ba-bb1b-8718ad4078a2",
   "metadata": {},
   "outputs": [],
   "source": []
  },
  {
   "cell_type": "code",
   "execution_count": null,
   "id": "510b9815-5b8d-4703-9d4b-60a47f947090",
   "metadata": {},
   "outputs": [],
   "source": []
  },
  {
   "cell_type": "code",
   "execution_count": null,
   "id": "e262b2b6-5dc4-42b4-ba4e-bb12354461a8",
   "metadata": {},
   "outputs": [],
   "source": []
  }
 ],
 "metadata": {
  "kernelspec": {
   "display_name": "Python 3 (ipykernel)",
   "language": "python",
   "name": "python3"
  },
  "language_info": {
   "codemirror_mode": {
    "name": "ipython",
    "version": 3
   },
   "file_extension": ".py",
   "mimetype": "text/x-python",
   "name": "python",
   "nbconvert_exporter": "python",
   "pygments_lexer": "ipython3",
   "version": "3.11.5"
  }
 },
 "nbformat": 4,
 "nbformat_minor": 5
}
